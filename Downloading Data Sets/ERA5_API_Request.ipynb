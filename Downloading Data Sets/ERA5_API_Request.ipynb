{
 "cells": [
  {
   "cell_type": "markdown",
   "metadata": {},
   "source": [
    "<h3> <center> API request for ERA5 Data <center></h3>\n",
    "    \n",
    "For requesting ERA5 Data you need an account with the climate data store (CDS). You must follow the instructions [here](https://confluence.ecmwf.int/display/CKB/How+to+download+ERA5) before running the API request. Specify the variables, times periods, area, and grid cell size you want (for ERA5 the maximum resolution is 0.28125 degrees). \n",
    "\n",
    "__Note:__ If you are downloading large areas of data or hourly datasets only send a request for 1 or 2 years at a time for faster downloads. The code below is currently set to run for hourly data but can be changed for monthly averages as well. \n",
    "\n",
    "__Specific variable notes:__ <br/>\n",
    "_Precipitation:_ If monthly precipitation totals are needed, you must download hourly precipitation data and sum the datasets yourself, as the monthly averages produces precipitation averages for a month. <br/>\n",
    "_Evaporation:_ Like precipitation, if you require monthly totals of evaporation, download the hourly dataset and sum it yourself. "
   ]
  },
  {
   "cell_type": "code",
   "execution_count": null,
   "metadata": {},
   "outputs": [],
   "source": [
    "import cdsapi\n",
    "c = cdsapi.Client()\n",
    "\n",
    "c.retrieve(\n",
    "    'reanalysis-era5-single-levels',     # model to download\n",
    "    {\n",
    "        'product_type':'reanalysis',\n",
    "        'format':'netcdf',              # format to download in: grib or netcdf\n",
    "        'variable':'runoff',            # variables to download (can do more than 1 at a time by seperating variables with ,)\n",
    "        'year':2017,                               \n",
    "        'month':[                   \n",
    "            '01','02','03',\n",
    "            '04','05','06',\n",
    "            '07','08','09',\n",
    "            '10','11','12'\n",
    "        ],\n",
    "        'day':[                  \n",
    "            '01','02','03',\n",
    "            '04','05','06',\n",
    "            '07','08','09',\n",
    "            '10','11','12',\n",
    "            '13','14','15',\n",
    "            '16','17','18',\n",
    "            '19','20','21',\n",
    "            '22','23','24',\n",
    "            '25','26','27',\n",
    "            '28','29','30',\n",
    "            '31'\n",
    "        ],\n",
    "        'time':[\n",
    "            '00:00','01:00','02:00',\n",
    "            '03:00','04:00','05:00',\n",
    "            '06:00','07:00','08:00',\n",
    "            '09:00','10:00','11:00',\n",
    "            '12:00','13:00','14:00',\n",
    "            '15:00','16:00','17:00',\n",
    "            '18:00','19:00','20:00',\n",
    "            '21:00','22:00','23:00'\n",
    "        ],\n",
    "\n",
    "        'grid': \"0.28125 /0.28125 \",      # the resolution of the dataset --> smallest being 0.25\n",
    "        'area':\"57/-128/49/-120\",         # area of downloaded data in decimal degrees\n",
    "    },\n",
    "    'download.nc')   "
   ]
  },
  {
   "cell_type": "markdown",
   "metadata": {},
   "source": [
    "For downloading, I ran each year until I got the message that the dataset was queued and then I stopped the code and ran the dataset for the next year. The data will download into the Copernicus Climate Data Store Account where you can download it to your computer. You can have as many files as you want queued for download, however if you let the datasets sit too long before downloading, some become unavailable..."
   ]
  },
  {
   "cell_type": "code",
   "execution_count": null,
   "metadata": {},
   "outputs": [],
   "source": []
  }
 ],
 "metadata": {
  "kernelspec": {
   "display_name": "Python 3",
   "language": "python",
   "name": "python3"
  },
  "language_info": {
   "codemirror_mode": {
    "name": "ipython",
    "version": 3
   },
   "file_extension": ".py",
   "mimetype": "text/x-python",
   "name": "python",
   "nbconvert_exporter": "python",
   "pygments_lexer": "ipython3",
   "version": "3.7.3"
  }
 },
 "nbformat": 4,
 "nbformat_minor": 2
}
