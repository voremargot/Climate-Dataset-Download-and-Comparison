{
 "cells": [
  {
   "cell_type": "markdown",
   "metadata": {},
   "source": [
    "<h1><center> Basics of working with ERA5 Data <centre></h1>\n",
    "This code shows the basics of downloading ERA5 data, exploring the variables, creating rasters using the data, clipping the rasters to shapefiles, and finding the average temperature of a region. "
   ]
  },
  {
   "cell_type": "markdown",
   "metadata": {},
   "source": [
    "<h3> <center> API request for ERA5 Data <center></h3>\n",
    "    \n",
    "For requesting ERA5 Data you need an account with the climate data store (CDS). You must follow the instructions [here](https://confluence.ecmwf.int/display/CKB/How+to+download+ERA5) before running the API request. Specify the variables, times periods, area, and grid cell size you want (for ERA5 the maximum resolution is 0.28125 degrees). Note: If you are downloading large areas of data or hourly datasets only send a request for 1 or 2 years at a time for faster downloads. The code below is currenlty set to run for hourly data but can be changed for monthly averages as well. "
   ]
  },
  {
   "cell_type": "code",
   "execution_count": null,
   "metadata": {},
   "outputs": [
    {
     "name": "stderr",
     "output_type": "stream",
     "text": [
      "2019-08-16 09:41:59,840 INFO Sending request to https://cds.climate.copernicus.eu/api/v2/resources/reanalysis-era5-single-levels\n",
      "2019-08-16 09:42:00,686 INFO Request is queued\n",
      "2019-08-16 09:42:01,817 INFO Request is running\n"
     ]
    }
   ],
   "source": [
    "import cdsapi\n",
    "\n",
    "c = cdsapi.Client()\n",
    "c.retrieve(\n",
    "    'reanalysis-era5-single-levels',\n",
    "    {\n",
    "        'product_type':'reanalysis',\n",
    "        'variable':[\n",
    "            'total_precipitation'\n",
    "        ],\n",
    "        'year':[1989\n",
    "        ],\n",
    "        'month':[\n",
    "            '01','02','03',\n",
    "            '04','05','06',\n",
    "            '07','08','09',\n",
    "            '10','11','12'\n",
    "        ],\n",
    "        'day':[\n",
    "            '01','02','03',\n",
    "            '04','05','06',\n",
    "            '07','08','09',\n",
    "            '10','11','12',\n",
    "            '13','14','15',\n",
    "            '16','17','18',\n",
    "            '19','20','21',\n",
    "            '22','23','24',\n",
    "            '25','26','27',\n",
    "            '28','29','30',\n",
    "            '31'\n",
    "        ],\n",
    "        'time':[\n",
    "            '00:00','01:00','02:00',\n",
    "            '03:00','04:00','05:00',\n",
    "            '06:00','07:00','08:00',\n",
    "            '09:00','10:00','11:00',\n",
    "            '12:00','13:00','14:00',\n",
    "            '15:00','16:00','17:00',\n",
    "            '18:00','19:00','20:00',\n",
    "            '21:00','22:00','23:00'\n",
    "        ],\n",
    "\n",
    "        'grid': \"0.28125 /0.28125 \",\n",
    "        'area':\"57/-128/49/-120\",\n",
    "        'format':'netcdf'\n",
    "    },\n",
    "    'download.nc')   \n",
    "\n",
    "    "
   ]
  },
  {
   "cell_type": "markdown",
   "metadata": {},
   "source": [
    "<h3><center> Packages needed for data manipulation <center></h3>"
   ]
  },
  {
   "cell_type": "code",
   "execution_count": 1,
   "metadata": {},
   "outputs": [],
   "source": [
    "from netCDF4 import Dataset,num2date\n",
    "from datetime import date,datetime\n",
    "import shapefile\n",
    "import matplotlib.pyplot as plt\n",
    "import numpy as np\n",
    "from osgeo import gdal\n",
    "from osgeo import gdal_array\n",
    "from osgeo import osr,ogr"
   ]
  },
  {
   "cell_type": "markdown",
   "metadata": {},
   "source": [
    "<h3><center> downloading.nc data <center></h3>\n",
    "This data is monthly temperature and precipitation data that was downloaded from ERA5 (no the same data as is in the example API request). This code looks up the variables in the .nc file and extracts them. "
   ]
  },
  {
   "cell_type": "code",
   "execution_count": 3,
   "metadata": {},
   "outputs": [],
   "source": [
    "nc_file=Dataset('C:/Users/vore/Desktop/HydroMet_Project/Data/ERA5/RAW/ERA5_ma_PT_0.28res.nc')\n",
    "nc_file.variables\n",
    "temp=nc_file.variables['t2m'][:,:,:]\n",
    "precip=nc_file.variables['tp'][:,:,:]\n",
    "t=nc_file.variables['time'][:]\n",
    "lat=nc_file.variables['latitude'][:]\n",
    "long=nc_file.variables['longitude'][:]"
   ]
  },
  {
   "cell_type": "markdown",
   "metadata": {},
   "source": [
    "<h3><center> Change time to datetime format <center></h3>\n",
    "This section of code changes the orginal time format from the .nc to datetime format which is easier to work with"
   ]
  },
  {
   "cell_type": "code",
   "execution_count": 4,
   "metadata": {},
   "outputs": [],
   "source": [
    "t_cal=nc_file.variables['time'].calendar\n",
    "t_unit=nc_file.variables['time'].units\n",
    "t_datetime=[]\n",
    "t_datetime.append(num2date(t,units=t_unit,calendar=t_cal))\n",
    "t_datetime=t_datetime[0]\n",
    "\n"
   ]
  },
  {
   "cell_type": "markdown",
   "metadata": {},
   "source": [
    "<h3><center> Change temp from K to degree C <center></h3>\n",
    "Change temperature from kelvin to degree C and create an array that matches the temperature estimation with its corresponding location\n",
    "   "
   ]
  },
  {
   "cell_type": "code",
   "execution_count": 5,
   "metadata": {},
   "outputs": [],
   "source": [
    "Z=[]\n",
    "for i in np.arange(0,len(lat)):\n",
    "    for j in np.arange(0,len(long)):\n",
    "        Z.append([temp[0,i,j]-273.15,lat[i],long[j]])\n",
    "Z=np.array(Z)"
   ]
  },
  {
   "cell_type": "markdown",
   "metadata": {},
   "source": [
    "<h3> <center> Creating Temp Raster <center></h3>\n",
    "Create a raster that contains one month of the temperature data. Note: Make sure to delete this raster before trying to make a new one with the same name!\n"
   ]
  },
  {
   "cell_type": "code",
   "execution_count": 6,
   "metadata": {},
   "outputs": [],
   "source": [
    "temp_array=np.reshape(Z[:,0],(-1,len(lat)))\n",
    "lat_array=np.reshape(Z[:,1], (-1,len(lat)))\n",
    "lon_array=(Z[:,2],(-1,len(lat)))[0]\n",
    "\n",
    "\n",
    "xmin,ymin,xmax,ymax = [lon_array.min(),lat_array.min(),lon_array.max(),lat_array.max()]\n",
    "nrows,ncols = np.shape(temp_array)\n",
    "xres = (xmax-xmin)/float(ncols)\n",
    "yres = (ymax-ymin)/float(nrows)\n",
    "geotransform=(xmin,xres,0,ymax,0, -yres)  \n",
    "\n",
    "output_raster = gdal.GetDriverByName('GTiff').Create('C:/Users/vore/Desktop/HydroMet_Project/Data/ERA5/Rasters/Temp_Jan1979_03res.tif',ncols, nrows, 1 ,gdal.GDT_Float32)  # Open the file\n",
    "\n",
    "output_raster.SetGeoTransform(geotransform)  # Specify its coordinates\n",
    "srs = osr.SpatialReference()                 # Establish its coordinate encoding\n",
    "srs.ImportFromEPSG(3005)                     # This one specifies WGS84 lat long.\n",
    "                                             # Anyone know how to specify the \n",
    "                                             # IAU2000:49900 Mars encoding?\n",
    "output_raster.SetProjection( srs.ExportToWkt() )   # Exports the coordinate system                                                # to the file\n",
    "output_raster.GetRasterBand(1).WriteArray(temp_array)   # Writes my array to the raster\n",
    "output_raster.FlushCache()\n",
    "\n"
   ]
  },
  {
   "cell_type": "markdown",
   "metadata": {},
   "source": [
    "<h2><center> Plotting Raster and Watersheds <center></h2>"
   ]
  },
  {
   "cell_type": "code",
   "execution_count": 9,
   "metadata": {},
   "outputs": [],
   "source": [
    "import rasterio\n",
    "import fiona\n",
    "from descartes import PolygonPatch\n",
    "from rasterio.warp import calculate_default_transform, reproject, Resampling\n",
    "from rasterio.plot import show\n",
    "import rasterio.mask\n"
   ]
  },
  {
   "cell_type": "markdown",
   "metadata": {},
   "source": [
    "<h4>Raster Display</h4>"
   ]
  },
  {
   "cell_type": "code",
   "execution_count": 11,
   "metadata": {},
   "outputs": [
    {
     "data": {
      "image/png": "[encoded data removed]",
      "text/plain": [
       "<Figure size 432x288 with 1 Axes>"
      ]
     },
     "metadata": {
      "needs_background": "light"
     },
     "output_type": "display_data"
    },
    {
     "data": {
      "text/plain": [
       "<matplotlib.axes._subplots.AxesSubplot at 0x8aace48>"
      ]
     },
     "execution_count": 11,
     "metadata": {},
     "output_type": "execute_result"
    }
   ],
   "source": [
    "Temp_raster=rasterio.open('C:/Users/vore/Desktop/HydroMet_Project/Data/ERA5/Rasters/Temp_Jan1979_03res.tif')\n",
    "with fiona.open(\"C:/Users/vore/Desktop/HydroMet_Project/Data/Shapefiles/ws_reprojected/watersheds.shp\", \"r\") as shapefile:\n",
    "    features = [feature[\"geometry\"] for feature in shapefile]\n",
    "\n",
    "\n",
    "rasterio.plot.show(Temp_raster,1)\n"
   ]
  },
  {
   "cell_type": "markdown",
   "metadata": {},
   "source": [
    "<h4> Shapefile Display </h4>"
   ]
  },
  {
   "cell_type": "code",
   "execution_count": 12,
   "metadata": {},
   "outputs": [
    {
     "data": {
      "image/png": "[encoded data removed]",
      "text/plain": [
       "<Figure size 432x288 with 1 Axes>"
      ]
     },
     "metadata": {
      "needs_background": "light"
     },
     "output_type": "display_data"
    }
   ],
   "source": [
    "import numpy as np\n",
    "import geopandas as gpd\n",
    "import matplotlib.pyplot as plt\n",
    "ws=gpd.read_file(\"C:/Users/vore/Desktop/HydroMet_Project/Data/Shapefiles/ws_reprojected/watersheds.shp\")\n",
    "\n",
    "for i in np.arange(0,6,1):\n",
    "    x,y=ws['geometry'][i].exterior.xy\n",
    "    plt.plot(x,y,color='k',alpha=0.7)\n",
    "plt.show()"
   ]
  },
  {
   "cell_type": "code",
   "execution_count": 11,
   "metadata": {},
   "outputs": [
    {
     "data": {
      "image/png": "[encoded data removed]",
      "text/plain": [
       "<Figure size 432x288 with 1 Axes>"
      ]
     },
     "metadata": {
      "needs_background": "light"
     },
     "output_type": "display_data"
    }
   ],
   "source": [
    "from matplotlib.patches import Polygon\n",
    "from matplotlib.collections import PatchCollection\n",
    "import matplotlib\n",
    "\n",
    "fig=plt.figure()\n",
    "ax=fig.add_subplot(111)\n",
    "\n",
    "for i in np.arange(0,6,1):\n",
    "    ax.add_patch(PolygonPatch(ws['geometry'][i],fc='blue'))\n",
    "ax.autoscale_view()"
   ]
  },
  {
   "cell_type": "markdown",
   "metadata": {},
   "source": [
    "<h3><center> Masking Raster to Shapefiles<center></h3.\n"
   ]
  },
  {
   "cell_type": "code",
   "execution_count": 9,
   "metadata": {},
   "outputs": [
    {
     "data": {
      "image/png": "[encoded data removed]",
      "text/plain": [
       "<Figure size 432x288 with 1 Axes>"
      ]
     },
     "metadata": {
      "needs_background": "light"
     },
     "output_type": "display_data"
    },
    {
     "data": {
      "text/plain": [
       "<matplotlib.axes._subplots.AxesSubplot at 0x9fdf518>"
      ]
     },
     "execution_count": 9,
     "metadata": {},
     "output_type": "execute_result"
    }
   ],
   "source": [
    "\n",
    "with fiona.open(\"C:/Users/vore/Desktop/HydroMet_Project/Data/Shapefiles/ws_reprojected/watersheds.shp\", \"r\") as shapefile:\n",
    "    features = [feature[\"geometry\"] for feature in shapefile]\n",
    "    \n",
    "with rasterio.open(\"C:/Users/vore/Desktop/HydroMet_Project/Data/ERA5/Rasters/Temp_Jan1979_03res.tif\") as src:\n",
    "    out_image, out_transform = rasterio.mask.mask(src, features,crop=True)\n",
    "    out_meta = src.meta.copy()\n",
    "\n",
    "out_meta.update({\"driver\": \"GTiff\",\n",
    "                 \"height\": out_image.shape[1],\n",
    "                 \"width\": out_image.shape[2],\n",
    "                 \"transform\": out_transform})\n",
    "show(out_image)"
   ]
  },
  {
   "cell_type": "markdown",
   "metadata": {},
   "source": [
    "<h3><center> Average temperatures of watershed <center></h3>\n"
   ]
  },
  {
   "cell_type": "code",
   "execution_count": 36,
   "metadata": {},
   "outputs": [
    {
     "data": {
      "image/png": "[encoded data removed]",
      "text/plain": [
       "<Figure size 432x288 with 1 Axes>"
      ]
     },
     "metadata": {
      "needs_background": "light"
     },
     "output_type": "display_data"
    }
   ],
   "source": [
    "\n",
    "shapefile= fiona.open(\"C:/Users/vore/Desktop/HydroMet_Project/Data/Shapefiles/Individual_ws/Chilko/Chilko_WS.shp\", \"r\") \n",
    "features=[]\n",
    "for feature in shapefile:\n",
    "    features.append(feature[\"geometry\"])\n",
    "\n",
    "with rasterio.open(\"C:/Users/vore/Desktop/HydroMet_Project/Data/ERA5/Rasters/Temp_Jan1979_03res.tif\") as src:\n",
    "    out_image, out_transform = rasterio.mask.mask(src, features,crop=True)\n",
    "    out_meta = src.meta.copy()\n",
    "show(out_image)\n",
    "out_image=out_image[0]"
   ]
  },
  {
   "cell_type": "code",
   "execution_count": 37,
   "metadata": {},
   "outputs": [
    {
     "data": {
      "text/plain": [
       "-14.799602"
      ]
     },
     "execution_count": 37,
     "metadata": {},
     "output_type": "execute_result"
    }
   ],
   "source": [
    "xrow, xcol=np.shape(out_image)\n",
    "ws_temp=[]\n",
    "\n",
    "for i in np.arange(0, xrow):\n",
    "    for j in np.arange (0,xcol):\n",
    "        if out_image[i,j] != 0:\n",
    "            ws_temp.append(out_image[i,j])\n",
    "\n",
    "np.mean(ws_temp)"
   ]
  }
 ],
 "metadata": {
  "kernelspec": {
   "display_name": "Python 3",
   "language": "python",
   "name": "python3"
  },
  "language_info": {
   "codemirror_mode": {
    "name": "ipython",
    "version": 3
   },
   "file_extension": ".py",
   "mimetype": "text/x-python",
   "name": "python",
   "nbconvert_exporter": "python",
   "pygments_lexer": "ipython3",
   "version": "3.7.3"
  }
 },
 "nbformat": 4,
 "nbformat_minor": 2
}
